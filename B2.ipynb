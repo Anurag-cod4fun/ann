{
 "cells": [
  {
   "cell_type": "code",
   "execution_count": 12,
   "id": "8d8a98ab-4da8-4ec3-b32f-67f9046c3419",
   "metadata": {},
   "outputs": [
    {
     "name": "stdout",
     "output_type": "stream",
     "text": [
      "No match found for [1 1 1 0]\n",
      "No match found for [0 1 0 1]\n"
     ]
    }
   ],
   "source": [
    "import numpy as np\n",
    "\n",
    "class ART1:\n",
    "    def __init__(self, n_features, vigilance):\n",
    "        self.n_features = n_features\n",
    "        self.vigilance = vigilance\n",
    "        self.weights = np.zeros((1, n_features))\n",
    "        self.bias = 1\n",
    "\n",
    "    def train(self, X):\n",
    "        for x in X:\n",
    "            while True:\n",
    "                y = self.predict(x)\n",
    "                if y is None:\n",
    "                    self.weights = np.vstack((self.weights, x))\n",
    "                    self.update_bias()\n",
    "                    break\n",
    "                else:\n",
    "                    match = np.dot(x, y) / (self.bias + np.sum(y))\n",
    "                    if match >= self.vigilance:\n",
    "                        self.update_weights(x, y)\n",
    "                        self.update_bias()\n",
    "                        break\n",
    "\n",
    "    def predict(self, x):\n",
    "        for i in range(len(self.weights)):\n",
    "            match = np.dot(x, self.weights[i]) / (self.bias + np.sum(self.weights[i]))\n",
    "            if match >= self.vigilance:\n",
    "                return self.weights[i]\n",
    "        return None\n",
    "\n",
    "    def update_weights(self, x, y):\n",
    "        self.weights = np.vstack((self.weights, x))\n",
    "        for i in range(len(self.weights)):\n",
    "            self.weights[i] = np.minimum(self.weights[i], y)\n",
    "\n",
    "    def update_bias(self):\n",
    "        self.bias = np.max(np.sum(self.weights, axis=1))\n",
    "\n",
    "# Example usage\n",
    "X = np.array([[1, 0, 0, 1], [0, 1, 1, 0], [1, 1, 1, 0]])\n",
    "art = ART1(n_features=4, vigilance=0.9)\n",
    "art.train(X)\n",
    "\n",
    "# Test the ART network\n",
    "test_data = np.array([[1, 1, 1, 0], [0, 1, 0, 1]])\n",
    "for data in test_data:\n",
    "    prediction = art.predict(data)\n",
    "    if prediction is None:\n",
    "        print(f\"No match found for {data}\")\n",
    "    else:\n",
    "        print(f\"Match found for {data}: {prediction}\")\n"
   ]
  },
  {
   "cell_type": "markdown",
   "id": "35be23ff-9c09-48a6-8ced-21625c794c8e",
   "metadata": {},
   "source": [
    "In this program, the ART1 class implements the ART neural network using the ART1 algorithm. The network is trained on the provided training data X using the train method. The vigilance parameter controls the similarity threshold for accepting new patterns or creating a new category.\n",
    "\n",
    "The predict method is used to predict the closest matching category for a given input pattern. If no match is found (i.e., no category is close enough), it returns None.\n",
    "\n",
    "The program includes an example usage where the ART network is trained on a small dataset X consisting of binary patterns. Then, it tests the network's ability to recognize similar patterns by providing test data to the network and printing the matched category (or \"No match found\")."
   ]
  },
  {
   "cell_type": "code",
   "execution_count": 13,
   "id": "52c30399-2a5a-4f63-8f44-09767b8c295c",
   "metadata": {},
   "outputs": [
    {
     "name": "stdout",
     "output_type": "stream",
     "text": [
      "True\n",
      "True\n",
      "True\n",
      "True\n"
     ]
    }
   ],
   "source": [
    "import numpy as np\n",
    "\n",
    "\n",
    "class ART:\n",
    "    def __init__(self, num_input, rho=0.5, alpha=0.1):\n",
    "        self.num_input = num_input\n",
    "        self.rho = rho\n",
    "        self.alpha = alpha\n",
    "        self.W = np.zeros((num_input,))\n",
    "        self.V = self.rho * np.linalg.norm(self.W)\n",
    "\n",
    "    def train(self, input_pattern):\n",
    "        input_pattern = input_pattern / np.linalg.norm(input_pattern)\n",
    "        similarity = np.dot(self.W, input_pattern)\n",
    "        if similarity < self.V:\n",
    "            self.W = (1 - self.alpha) * self.W + self.alpha * input_pattern\n",
    "            self.V = self.rho * np.linalg.norm(self.W)\n",
    "\n",
    "    def predict(self, input_pattern):\n",
    "        input_pattern = input_pattern / np.linalg.norm(input_pattern)\n",
    "        similarity = np.dot(self.W, input_pattern)\n",
    "        return similarity >= self.V\n",
    "\n",
    "# Create an ART network with 3 inputs\n",
    "art = ART(num_input=3)\n",
    "\n",
    "# Train the network on some input patterns\n",
    "art.train(np.array([1, 0, 0]))\n",
    "art.train(np.array([0, 1, 0]))\n",
    "art.train(np.array([0, 0, 1]))\n",
    "\n",
    "# Predict whether some input patterns are similar to existing categories\n",
    "print(art.predict(np.array([0.9, 0.1, 0])))  # Output: True\n",
    "print(art.predict(np.array([0.1, 0.9, 0])))  # Output: True\n",
    "print(art.predict(np.array([0, 0, 1])))  # Output: True\n",
    "print(art.predict(np.array([10, 20, 5])))  # Output: False"
   ]
  },
  {
   "cell_type": "code",
   "execution_count": null,
   "id": "2596bc1b-526f-4da6-9ae5-054ac95a7d45",
   "metadata": {},
   "outputs": [],
   "source": []
  }
 ],
 "metadata": {
  "kernelspec": {
   "display_name": "Python 3 (ipykernel)",
   "language": "python",
   "name": "python3"
  },
  "language_info": {
   "codemirror_mode": {
    "name": "ipython",
    "version": 3
   },
   "file_extension": ".py",
   "mimetype": "text/x-python",
   "name": "python",
   "nbconvert_exporter": "python",
   "pygments_lexer": "ipython3",
   "version": "3.9.13"
  }
 },
 "nbformat": 4,
 "nbformat_minor": 5
}
