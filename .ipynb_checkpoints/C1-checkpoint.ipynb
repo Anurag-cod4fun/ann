{
 "cells": [
  {
   "cell_type": "code",
   "execution_count": 1,
   "id": "c56375e8-78fb-428a-9a91-e2f4ce75e58e",
   "metadata": {},
   "outputs": [
    {
     "ename": "NameError",
     "evalue": "name 'load_test_data' is not defined",
     "output_type": "error",
     "traceback": [
      "\u001b[1;31m---------------------------------------------------------------------------\u001b[0m",
      "\u001b[1;31mNameError\u001b[0m                                 Traceback (most recent call last)",
      "\u001b[1;32mc:\\Users\\Anurag\\Desktop\\notebooks\\Practicals\\ANN_Abhyas\\Untitled.ipynb Cell 1\u001b[0m in \u001b[0;36m7\n\u001b[0;32m      <a href='vscode-notebook-cell:/c%3A/Users/Anurag/Desktop/notebooks/Practicals/ANN_Abhyas/Untitled.ipynb#W0sZmlsZQ%3D%3D?line=1'>2</a>\u001b[0m \u001b[39mfrom\u001b[39;00m \u001b[39msklearn\u001b[39;00m\u001b[39m.\u001b[39;00m\u001b[39mmetrics\u001b[39;00m \u001b[39mimport\u001b[39;00m accuracy_score\n\u001b[0;32m      <a href='vscode-notebook-cell:/c%3A/Users/Anurag/Desktop/notebooks/Practicals/ANN_Abhyas/Untitled.ipynb#W0sZmlsZQ%3D%3D?line=3'>4</a>\u001b[0m \u001b[39m# Assuming you have already trained and saved the logistic regression model\u001b[39;00m\n\u001b[0;32m      <a href='vscode-notebook-cell:/c%3A/Users/Anurag/Desktop/notebooks/Practicals/ANN_Abhyas/Untitled.ipynb#W0sZmlsZQ%3D%3D?line=4'>5</a>\u001b[0m \n\u001b[0;32m      <a href='vscode-notebook-cell:/c%3A/Users/Anurag/Desktop/notebooks/Practicals/ANN_Abhyas/Untitled.ipynb#W0sZmlsZQ%3D%3D?line=5'>6</a>\u001b[0m \u001b[39m# Load test data\u001b[39;00m\n\u001b[1;32m----> <a href='vscode-notebook-cell:/c%3A/Users/Anurag/Desktop/notebooks/Practicals/ANN_Abhyas/Untitled.ipynb#W0sZmlsZQ%3D%3D?line=6'>7</a>\u001b[0m test_features, test_labels \u001b[39m=\u001b[39m load_test_data()\n\u001b[0;32m      <a href='vscode-notebook-cell:/c%3A/Users/Anurag/Desktop/notebooks/Practicals/ANN_Abhyas/Untitled.ipynb#W0sZmlsZQ%3D%3D?line=8'>9</a>\u001b[0m \u001b[39m# Load the saved model\u001b[39;00m\n\u001b[0;32m     <a href='vscode-notebook-cell:/c%3A/Users/Anurag/Desktop/notebooks/Practicals/ANN_Abhyas/Untitled.ipynb#W0sZmlsZQ%3D%3D?line=9'>10</a>\u001b[0m model \u001b[39m=\u001b[39m tf\u001b[39m.\u001b[39mkeras\u001b[39m.\u001b[39mmodels\u001b[39m.\u001b[39mload_model(\u001b[39m'\u001b[39m\u001b[39mlogistic_regression_model\u001b[39m\u001b[39m'\u001b[39m)\n",
      "\u001b[1;31mNameError\u001b[0m: name 'load_test_data' is not defined"
     ]
    }
   ],
   "source": [
    "import tensorflow as tf\n",
    "from sklearn.metrics import accuracy_score\n",
    "\n",
    "# Assuming you have already trained and saved the logistic regression model\n",
    "\n",
    "# Load test data\n",
    "test_features, test_labels = load_test_data()\n",
    "\n",
    "# Load the saved model\n",
    "model = tf.keras.models.load_model('logistic_regression_model')\n",
    "\n",
    "# Make predictions on the test set\n",
    "predictions = model.predict(test_features)\n",
    "\n",
    "# Convert predicted probabilities to binary labels\n",
    "predicted_labels = [1 if pred >= 0.5 else 0 for pred in predictions]\n",
    "\n",
    "# Calculate accuracy\n",
    "accuracy = accuracy_score(test_labels, predicted_labels)\n",
    "print(\"Accuracy:\", accuracy)\n"
   ]
  },
  {
   "cell_type": "code",
   "execution_count": null,
   "id": "19079d12-36a5-48dd-a76e-7d17066818b9",
   "metadata": {},
   "outputs": [],
   "source": []
  }
 ],
 "metadata": {
  "kernelspec": {
   "display_name": "Python 3 (ipykernel)",
   "language": "python",
   "name": "python3"
  },
  "language_info": {
   "codemirror_mode": {
    "name": "ipython",
    "version": 3
   },
   "file_extension": ".py",
   "mimetype": "text/x-python",
   "name": "python",
   "nbconvert_exporter": "python",
   "pygments_lexer": "ipython3",
   "version": "3.10.8"
  }
 },
 "nbformat": 4,
 "nbformat_minor": 5
}
