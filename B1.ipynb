{
 "cells": [
  {
   "cell_type": "code",
   "execution_count": 1,
   "id": "31264fea-b64d-4774-a4bf-b0e8a7dab627",
   "metadata": {},
   "outputs": [
    {
     "name": "stdout",
     "output_type": "stream",
     "text": [
      "[[0.24387646]\n",
      " [0.7026728 ]\n",
      " [0.70270118]\n",
      " [0.38493608]]\n"
     ]
    }
   ],
   "source": [
    "import numpy as np\n",
    "\n",
    "# Define sigmoid activation function\n",
    "def sigmoid(x):\n",
    "    return 1 / (1 + np.exp(-x))\n",
    "\n",
    "# Define derivative of sigmoid function\n",
    "def sigmoid_derivative(x):\n",
    "    return x * (1 - x)\n",
    "\n",
    "# Define XOR input and output\n",
    "X = np.array([[0,0], [0,1], [1,0], [1,1]])\n",
    "y = np.array([[0], [1], [1], [0]])\n",
    "\n",
    "# Define network architecture\n",
    "input_layer_size = 2\n",
    "hidden_layer_size = 2\n",
    "output_layer_size = 1\n",
    "\n",
    "# Initialize weights with random values\n",
    "hidden_weights = np.random.uniform(size=(input_layer_size, hidden_layer_size))\n",
    "output_weights = np.random.uniform(size=(hidden_layer_size, output_layer_size))\n",
    "\n",
    "# Define learning rate and number of epochs\n",
    "learning_rate = 0.1\n",
    "epochs = 10000\n",
    "\n",
    "# Train network\n",
    "for i in range(epochs):\n",
    "\n",
    "    # Forward propagation\n",
    "    hidden_layer_output = sigmoid(np.dot(X, hidden_weights))\n",
    "    output_layer_output = sigmoid(np.dot(hidden_layer_output, output_weights))\n",
    "\n",
    "    # Backpropagation\n",
    "    output_layer_error = y - output_layer_output\n",
    "    output_layer_delta = output_layer_error * sigmoid_derivative(output_layer_output)\n",
    "\n",
    "    hidden_layer_error = output_layer_delta.dot(output_weights.T)\n",
    "    hidden_layer_delta = hidden_layer_error * sigmoid_derivative(hidden_layer_output)\n",
    "\n",
    "    # Update weights\n",
    "    output_weights += hidden_layer_output.T.dot(output_layer_delta) * learning_rate\n",
    "    hidden_weights += X.T.dot(hidden_layer_delta) * learning_rate\n",
    "\n",
    "# Test network\n",
    "hidden_layer_output = sigmoid(np.dot(X, hidden_weights))\n",
    "output_layer_output = sigmoid(np.dot(hidden_layer_output, output_weights))\n",
    "\n",
    "print(output_layer_output)\n"
   ]
  },
  {
   "cell_type": "code",
   "execution_count": null,
   "id": "e2479249-4bf5-4458-8374-708fc3b57420",
   "metadata": {},
   "outputs": [],
   "source": []
  }
 ],
 "metadata": {
  "kernelspec": {
   "display_name": "Python 3 (ipykernel)",
   "language": "python",
   "name": "python3"
  },
  "language_info": {
   "codemirror_mode": {
    "name": "ipython",
    "version": 3
   },
   "file_extension": ".py",
   "mimetype": "text/x-python",
   "name": "python",
   "nbconvert_exporter": "python",
   "pygments_lexer": "ipython3",
   "version": "3.9.13"
  }
 },
 "nbformat": 4,
 "nbformat_minor": 5
}
