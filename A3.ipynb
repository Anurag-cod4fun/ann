{
 "cells": [
  {
   "cell_type": "code",
   "execution_count": 6,
   "id": "0a6fec7d-1ac3-42db-b7ab-034676d2350d",
   "metadata": {},
   "outputs": [
    {
     "name": "stdout",
     "output_type": "stream",
     "text": [
      "ASCII 48 is even\n",
      "ASCII 53 i.e 5 is odd\n",
      "ASCII 55 i.e 7 is odd\n",
      "ASCII 50 is even\n"
     ]
    }
   ],
   "source": [
    "import numpy as np\n",
    "\n",
    "# Training data\n",
    "training_data = [\n",
    "    (48, 0),   # '0' (even)\n",
    "    (49, 1),   # '1' (odd)\n",
    "    (50, 0),   # '2' (even)\n",
    "    (51, 1),   # '3' (odd)\n",
    "    (52, 0),   # '4' (even)\n",
    "    (53, 1),   # '5' (odd)\n",
    "    (54, 0),   # '6' (even)\n",
    "    (55, 1),   # '7' (odd)\n",
    "    (56, 0),   # '8' (even)\n",
    "    (57, 1)    # '9' (odd)\n",
    "]\n",
    "\n",
    "# Perceptron class\n",
    "class Perceptron:\n",
    "    def __init__(self):\n",
    "        self.weights = np.zeros(7)\n",
    "        self.bias = 0\n",
    "\n",
    "    def train(self, X, y, learning_rate=0.1, epochs=100):\n",
    "        # print(\"reahced here\")\n",
    "        for _ in range(epochs):\n",
    "            for input_value, target in zip(X, y):\n",
    "                prediction = self.predict(input_value)\n",
    "                self.weights += learning_rate * (target - prediction) * input_value\n",
    "                self.bias += learning_rate * (target - prediction)\n",
    "\n",
    "    def predict(self, X):\n",
    "        summation = np.dot(self.weights, X) + self.bias\n",
    "        return int(summation >= 0)\n",
    "\n",
    "# Create and train the perceptron\n",
    "perceptron = Perceptron()\n",
    "X_train = [np.array(list(np.binary_repr(data[0], width=7))).astype(int) for data in training_data]\n",
    "y_train = [data[1] for data in training_data]\n",
    "perceptron.train(X_train, y_train)\n",
    "\n",
    "# Test the perceptron\n",
    "test_data = [48, 53, 55, 50]  # Test numbers: '0', '5', '7', '2'\n",
    "\n",
    "for number in test_data:\n",
    "    Dnum = chr(number)\n",
    "    binary_number = np.array(list(np.binary_repr(number, width=7))).astype(int)\n",
    "    prediction = perceptron.predict(binary_number)\n",
    "    if prediction == 1:\n",
    "        print(f\"ASCII {number} i.e {Dnum} is odd\")\n",
    "    else:\n",
    "        print(f\"ASCII {number} is even\")\n"
   ]
  },
  {
   "cell_type": "code",
   "execution_count": 4,
   "id": "ada91414-314f-47a4-bf09-3740a4e73695",
   "metadata": {},
   "outputs": [
    {
     "name": "stdout",
     "output_type": "stream",
     "text": [
      "ASCII 48 i.e 0 is even\n",
      "ASCII 53 i.e 5 is even\n",
      "ASCII 55 i.e 7 is odd\n",
      "ASCII 50 i.e 2 is even\n",
      "ASCII 69 i.e E is odd\n",
      "ASCII 70 i.e F is odd\n"
     ]
    }
   ],
   "source": [
    "import numpy as np\n",
    "\n",
    "# Training data\n",
    "training_data = [\n",
    "    (48, 0),   # '0' (even)\n",
    "    (49, 1),   # '1' (odd)\n",
    "    (50, 0),   # '2' (even)\n",
    "    (51, 1),   # '3' (odd)\n",
    "    (52, 0),   # '4' (even)\n",
    "    (53, 1),   # '5' (odd)\n",
    "    (54, 0),   # '6' (even)\n",
    "    (55, 1),   # '7' (odd)\n",
    "    (56, 0),   # '8' (even)\n",
    "    (57, 1),   # '9' (odd)\n",
    "    (65, 0),   # 'A' (even)\n",
    "    (66, 1),   # 'B' (odd)\n",
    "    (67, 0),   # 'C' (even)\n",
    "    (68, 1),   # 'D' (odd)\n",
    "    (69, 0),   # 'E' (even)\n",
    "    (70, 1),   # 'F' (odd)\n",
    "]\n",
    "\n",
    "# Perceptron class\n",
    "class Perceptron:\n",
    "    def __init__(self):\n",
    "        self.weights = np.zeros(7)\n",
    "        self.bias = 0\n",
    "\n",
    "    def train(self, X, y, learning_rate=0.1, epochs=100):\n",
    "        for _ in range(epochs):\n",
    "            for input_value, target in zip(X, y):\n",
    "                prediction = self.predict(input_value)\n",
    "                self.weights += learning_rate * (target - prediction) * input_value\n",
    "                self.bias += learning_rate * (target - prediction)\n",
    "\n",
    "    def predict(self, X):\n",
    "        summation = np.dot(self.weights, X) + self.bias\n",
    "        return int(summation >= 0)\n",
    "\n",
    "# Create and train the perceptron\n",
    "perceptron = Perceptron()\n",
    "X_train = [np.array(list(np.binary_repr(data[0], width=7))).astype(int) for data in training_data]\n",
    "y_train = [data[1] for data in training_data]\n",
    "perceptron.train(X_train, y_train)\n",
    "\n",
    "# Test the perceptron\n",
    "test_data = [48, 53, 55, 50, 69, 70]  # Test numbers: '0', '5', '7', '2', 'E', 'F'\n",
    "\n",
    "for number in test_data:\n",
    "    Dnum = chr(number)\n",
    "    binary_number = np.array(list(np.binary_repr(number, width=7))).astype(int)\n",
    "    prediction = perceptron.predict(binary_number)\n",
    "    if prediction == 1:\n",
    "        print(f\"ASCII {number} i.e {Dnum} is odd\")\n",
    "    else:\n",
    "        print(f\"ASCII {number} i.e {Dnum} is even\")\n"
   ]
  },
  {
   "cell_type": "code",
   "execution_count": 11,
   "id": "dfc57781-f292-4b11-84e3-55bdac2a6805",
   "metadata": {},
   "outputs": [
    {
     "name": "stdin",
     "output_type": "stream",
     "text": [
      "Enter a number 0-9 7\n"
     ]
    },
    {
     "name": "stdout",
     "output_type": "stream",
     "text": [
      "odd\n"
     ]
    }
   ],
   "source": [
    "import numpy as np\n",
    "\n",
    "training_data = [\n",
    "    (48,0),\n",
    "    (49,1),\n",
    "    (50,0),\n",
    "    (51,1),\n",
    "    (52,0),\n",
    "    (53,1),\n",
    "    (54,0),\n",
    "    (55,1),\n",
    "    (56,0),\n",
    "    (57,1),\n",
    "]\n",
    "\n",
    "class Perceptron:\n",
    "    def __init__(self):\n",
    "        self.weights = np.zeros(7)\n",
    "        self.bias = 0\n",
    "        \n",
    "    def train(self, X, y, learning_rate=0.1, epochs=100):\n",
    "        for _ in range(epochs):\n",
    "            for input_value, target in zip(X,y):\n",
    "                prediction = self.predict(input_value)\n",
    "                self.weights = learning_rate * (target-prediction) * input_value\n",
    "                self.bias = learning_rate * (target-prediction)\n",
    "                \n",
    "    def predict(self, X):\n",
    "        summation = np.dot(self.weights, X) + self.bias\n",
    "        return int(summation >= 0)\n",
    "    \n",
    "perceptron = Perceptron()\n",
    "X_train = [np.array(list(np.binary_repr(data[0],width=7))).astype(int) for data in training_data]\n",
    "y_train = [data[1] for data in training_data]     \n",
    "perceptron.train(X_train,y_train)\n",
    "\n",
    "number = int(input(\"Enter a number 0-9\"))\n",
    "binary_number = np.array(list(np.binary_repr(number,width=7))).astype(int)\n",
    "prediction = perceptron.predict(binary_number)\n",
    "if (prediction == 0):\n",
    "    print(\"even\")\n",
    "else:\n",
    "    print(\"odd\")"
   ]
  },
  {
   "cell_type": "code",
   "execution_count": null,
   "id": "7661391c-ae84-4143-8217-1e742bea84a7",
   "metadata": {},
   "outputs": [],
   "source": []
  }
 ],
 "metadata": {
  "kernelspec": {
   "display_name": "Python 3 (ipykernel)",
   "language": "python",
   "name": "python3"
  },
  "language_info": {
   "codemirror_mode": {
    "name": "ipython",
    "version": 3
   },
   "file_extension": ".py",
   "mimetype": "text/x-python",
   "name": "python",
   "nbconvert_exporter": "python",
   "pygments_lexer": "ipython3",
   "version": "3.9.13"
  }
 },
 "nbformat": 4,
 "nbformat_minor": 5
}
