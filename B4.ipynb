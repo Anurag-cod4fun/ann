{
 "cells": [
  {
   "cell_type": "code",
   "execution_count": 2,
   "id": "18cd6c79-c603-4da2-a123-2193ecf0c32e",
   "metadata": {},
   "outputs": [
    {
     "name": "stdout",
     "output_type": "stream",
     "text": [
      "Original Pattern: [1, -1, 1, -1]\n",
      "Retrieved Pattern: [ 1.  0.  1. -1.]\n",
      "\n",
      "Original Pattern: [1, 1, -1, -1]\n",
      "Retrieved Pattern: [ 1.  0.  1. -1.]\n",
      "\n",
      "Original Pattern: [-1, -1, -1, -1]\n",
      "Retrieved Pattern: [-1.  0. -1.  1.]\n",
      "\n"
     ]
    }
   ],
   "source": [
    "import numpy as np\n",
    "\n",
    "class HopfieldNetwork:\n",
    "    def __init__(self, num_neurons):\n",
    "        self.num_neurons = num_neurons\n",
    "        self.weights = np.zeros((num_neurons, num_neurons))\n",
    "\n",
    "    def train(self, patterns):\n",
    "        for pattern in patterns:\n",
    "            pattern = np.reshape(pattern, (self.num_neurons, 1))\n",
    "            self.weights += np.dot(pattern, pattern.T)\n",
    "\n",
    "        np.fill_diagonal(self.weights, 0)\n",
    "\n",
    "    def predict(self, pattern):\n",
    "        pattern = np.reshape(pattern, (self.num_neurons, 1))\n",
    "\n",
    "        while True:\n",
    "            output = np.sign(np.dot(self.weights, pattern))\n",
    "            if np.array_equal(output, pattern):\n",
    "                return output.flatten()\n",
    "            pattern = output\n",
    "\n",
    "# Define the input patterns to be stored\n",
    "patterns = [\n",
    "    [1, -1, 1, -1],\n",
    "    [-1, 1, -1, 1],\n",
    "    [1, 1, 1, -1],\n",
    "    [-1, -1, -1, 1]\n",
    "]\n",
    "\n",
    "# Create a Hopfield Network with 4 neurons\n",
    "network = HopfieldNetwork(num_neurons=4)\n",
    "\n",
    "# Train the network on the input patterns\n",
    "network.train(patterns)\n",
    "\n",
    "# Test the network by retrieving the stored patterns\n",
    "test_patterns = [\n",
    "    [1, -1, 1, -1],   # Pattern 1 (should retrieve the same pattern)\n",
    "    [1, 1, -1, -1],   # Pattern 2 (should converge to Pattern 3)\n",
    "    [-1, -1, -1, -1]  # Pattern 3 (should retrieve the same pattern)\n",
    "]\n",
    "\n",
    "for pattern in test_patterns:\n",
    "    retrieved_pattern = network.predict(pattern)\n",
    "    print(\"Original Pattern:\", pattern)\n",
    "    print(\"Retrieved Pattern:\", retrieved_pattern)\n",
    "    print()\n"
   ]
  },
  {
   "cell_type": "code",
   "execution_count": null,
   "id": "94875be0-6c3e-4bd7-87b3-e3e3f265f09b",
   "metadata": {},
   "outputs": [],
   "source": []
  }
 ],
 "metadata": {
  "kernelspec": {
   "display_name": "Python 3 (ipykernel)",
   "language": "python",
   "name": "python3"
  },
  "language_info": {
   "codemirror_mode": {
    "name": "ipython",
    "version": 3
   },
   "file_extension": ".py",
   "mimetype": "text/x-python",
   "name": "python",
   "nbconvert_exporter": "python",
   "pygments_lexer": "ipython3",
   "version": "3.9.13"
  }
 },
 "nbformat": 4,
 "nbformat_minor": 5
}
