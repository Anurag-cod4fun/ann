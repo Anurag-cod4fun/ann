{
 "cells": [
  {
   "cell_type": "code",
   "execution_count": 5,
   "id": "36d43a76-ac15-4ba2-9cc3-384dbf863afa",
   "metadata": {},
   "outputs": [
    {
     "name": "stdout",
     "output_type": "stream",
     "text": [
      "[[0.59312866]\n",
      " [0.93917318]\n",
      " [0.66770045]\n",
      " [0.06610913]]\n"
     ]
    }
   ],
   "source": [
    "import numpy as np\n",
    "\n",
    "class NeuralNetwork:\n",
    "    \n",
    "    def __init__(self, input_layer_size, hidden_layer_size, output_layer_size):\n",
    "        self.input_layer_size = input_layer_size\n",
    "        self.hidden_layer_size = hidden_layer_size\n",
    "        self.output_layer_size = output_layer_size\n",
    "        \n",
    "        # Initialize weights randomly\n",
    "        self.weights1 = np.random.randn(input_layer_size, hidden_layer_size)\n",
    "        self.weights2 = np.random.randn(hidden_layer_size, output_layer_size)\n",
    "        \n",
    "    def sigmoid(self, z):\n",
    "        return 1 / (1 + np.exp(-z))\n",
    "    \n",
    "    def sigmoid_prime(self, z):\n",
    "        return self.sigmoid(z) * (1 - self.sigmoid(z))\n",
    "    \n",
    "    def forward(self, X):\n",
    "        # Input to hidden layer\n",
    "        self.z2 = np.dot(X, self.weights1)\n",
    "        self.a2 = self.sigmoid(self.z2)\n",
    "        \n",
    "        # Hidden to output layer\n",
    "        self.z3 = np.dot(self.a2, self.weights2)\n",
    "        y_hat = self.sigmoid(self.z3)\n",
    "        return y_hat\n",
    "    \n",
    "    def backward(self, X, y, y_hat, learning_rate):\n",
    "        # Output to hidden layer\n",
    "        delta3 = np.multiply(-(y - y_hat), self.sigmoid_prime(self.z3))\n",
    "        d_weights2 = np.dot(self.a2.T, delta3)\n",
    "        \n",
    "        # Hidden to input layer\n",
    "        delta2 = np.dot(delta3, self.weights2.T) * self.sigmoid_prime(self.z2)\n",
    "        d_weights1 = np.dot(X.T, delta2)\n",
    "        \n",
    "        # Update weights\n",
    "        self.weights1 -= learning_rate * d_weights1\n",
    "        self.weights2 -= learning_rate * d_weights2\n",
    "        \n",
    "    def train(self, X, y, learning_rate, epochs):\n",
    "        for i in range(epochs):\n",
    "            # print(\"epochs\",i,\"\\n\");\n",
    "            y_hat = self.forward(X)\n",
    "            self.backward(X, y, y_hat, learning_rate)\n",
    "            \n",
    "    def predict(self, X):\n",
    "        return self.forward(X)\n",
    "\n",
    "# Create a dataset with 2 features and 2 classes\n",
    "''' The variable X is a numpy array with dimensions (4, 2). It is a dataset of four training examples, \n",
    "where each example has two input features. '''\n",
    "\n",
    "X = np.array([[0, 0], [0, 1], [1, 0], [1, 1]])\n",
    "y = np.array([[0], [1], [1], [0]])\n",
    "\n",
    "# Create a neural network with 2 input neurons, 3 hidden neurons, and 1 output neuron\n",
    "nn = NeuralNetwork(input_layer_size=2, hidden_layer_size=3, output_layer_size=1)\n",
    "\n",
    "# Train the neural network on the dataset\n",
    "nn.train(X, y, learning_rate=0.1, epochs=10000)\n",
    "\n",
    "# Use the neural network to make predictions\n",
    "predictions = nn.predict(X)\n",
    "print(predictions)\n"
   ]
  },
  {
   "cell_type": "code",
   "execution_count": null,
   "id": "1f91c9b7-9676-4918-857e-64099e2e3c92",
   "metadata": {},
   "outputs": [],
   "source": []
  }
 ],
 "metadata": {
  "kernelspec": {
   "display_name": "Python 3 (ipykernel)",
   "language": "python",
   "name": "python3"
  },
  "language_info": {
   "codemirror_mode": {
    "name": "ipython",
    "version": 3
   },
   "file_extension": ".py",
   "mimetype": "text/x-python",
   "name": "python",
   "nbconvert_exporter": "python",
   "pygments_lexer": "ipython3",
   "version": "3.9.13"
  }
 },
 "nbformat": 4,
 "nbformat_minor": 5
}
